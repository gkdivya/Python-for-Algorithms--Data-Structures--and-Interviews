{
  "nbformat": 4,
  "nbformat_minor": 0,
  "metadata": {
    "kernelspec": {
      "name": "python3",
      "display_name": "Python 3"
    },
    "colab": {
      "name": "Array Pair Sum .ipynb",
      "provenance": [],
      "include_colab_link": true
    },
    "language_info": {
      "name": "python"
    }
  },
  "cells": [
    {
      "cell_type": "markdown",
      "metadata": {
        "id": "view-in-github",
        "colab_type": "text"
      },
      "source": [
        "<a href=\"https://colab.research.google.com/github/gkdivya/Python-for-Algorithms--Data-Structures--and-Interviews/blob/master/Array%20Sequences/Array%20Sequences%20Interview%20Questions/Array%20Sequence%20Interview%20Questions/Array%20Pair%20Sum%20.ipynb\" target=\"_parent\"><img src=\"https://colab.research.google.com/assets/colab-badge.svg\" alt=\"Open In Colab\"/></a>"
      ]
    },
    {
      "cell_type": "markdown",
      "metadata": {
        "id": "IpAlYEYdq65p"
      },
      "source": [
        "# Array Pair Sum\n",
        "\n",
        "## Problem\n",
        "\n",
        "Given an integer array, output all the ** *unique* ** pairs that sum up to a specific value **k**.\n",
        "\n",
        "So the input:\n",
        "    \n",
        "    pair_sum([1,3,2,2],4)\n",
        "\n",
        "would return **2** pairs:\n",
        "\n",
        "     (1,3)\n",
        "     (2,2)\n",
        "\n",
        "**NOTE: FOR TESTING PURPOSES CHANGE YOUR FUNCTION SO IT OUTPUTS THE NUMBER OF PAIRS**\n",
        "\n",
        "## Solution\n",
        "\n",
        "Fill out your solution below:"
      ]
    },
    {
      "cell_type": "code",
      "metadata": {
        "collapsed": true,
        "id": "SwPH5QYWq65r"
      },
      "source": [
        "def pair_sum(arr,k):\n",
        "    unique_pairs = 0\n",
        "    for i in range(len(arr) - 1):\n",
        "      for j in range(i+1, len(arr)):\n",
        "         if((arr[i] + arr[j]) == k):\n",
        "           unique_pairs += 1\n",
        "    return unique_pairs"
      ],
      "execution_count": null,
      "outputs": []
    },
    {
      "cell_type": "code",
      "metadata": {
        "id": "4WIOJceUERQF"
      },
      "source": [
        "def pair_sum(arr,k):\n",
        "    seen = set()\n",
        "    output = set()\n",
        "\n",
        "    for num in arr:\n",
        "      target = k - num\n",
        "      if target not in seen:\n",
        "        print('***',target)\n",
        "        seen.add(num)\n",
        "      else:\n",
        "        print('----',target)\n",
        "        output.add((min(num, target), max(num,target)))\n",
        "    return output"
      ],
      "execution_count": 16,
      "outputs": []
    },
    {
      "cell_type": "code",
      "metadata": {
        "id": "CpdG4TNoq65r",
        "colab": {
          "base_uri": "https://localhost:8080/"
        },
        "outputId": "afb6f65f-a0bc-4f7d-ecf1-3e80de7f2966"
      },
      "source": [
        "pair_sum([1,3,5,-1,6,-2],4)\n",
        "#pair_sum([1,7,9,2,8,3,7,4,6,5,5,13,14,11,13,-1],10)"
      ],
      "execution_count": 17,
      "outputs": [
        {
          "output_type": "stream",
          "text": [
            "*** 3\n",
            "---- 1\n",
            "*** -1\n",
            "---- 5\n",
            "*** -2\n",
            "---- 6\n"
          ],
          "name": "stdout"
        },
        {
          "output_type": "execute_result",
          "data": {
            "text/plain": [
              "{(-2, 6), (-1, 5), (1, 3)}"
            ]
          },
          "metadata": {
            "tags": []
          },
          "execution_count": 17
        }
      ]
    },
    {
      "cell_type": "markdown",
      "metadata": {
        "id": "5eK_asvbq65s"
      },
      "source": [
        "# Test Your Solution"
      ]
    },
    {
      "cell_type": "code",
      "metadata": {
        "id": "KqIxmRfYq65s",
        "colab": {
          "base_uri": "https://localhost:8080/"
        },
        "outputId": "ca1360a7-b00a-44fd-94cb-322e23e4bd68"
      },
      "source": [
        "\"\"\"\n",
        "RUN THIS CELL TO TEST YOUR SOLUTION\n",
        "\"\"\"\n",
        "import unittest\n",
        "\n",
        "class TestPair(unittest.TestCase):\n",
        "    \n",
        "    def test(self,sol):\n",
        "        self.assertEqual(sol([1,9,2,8,3,7,4,6,5,5,13,14,11,13,-1],10),6)\n",
        "        self.assertEqual(sol([1,2,3,1],3),2)\n",
        "        self.assertEqual(sol([1,3,2,2],4),2)\n",
        "        print('ALL TEST CASES PASSED')\n",
        "        \n",
        "#Run tests\n",
        "t = TestPair()\n",
        "t.test(pair_sum)\n",
        "    "
      ],
      "execution_count": null,
      "outputs": [
        {
          "output_type": "stream",
          "text": [
            "ALL TEST CASES PASSED\n"
          ],
          "name": "stdout"
        }
      ]
    },
    {
      "cell_type": "markdown",
      "metadata": {
        "id": "dpMYi8Mwq65t"
      },
      "source": [
        "## Good Job!"
      ]
    }
  ]
}