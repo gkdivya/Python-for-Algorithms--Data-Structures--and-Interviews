{
  "nbformat": 4,
  "nbformat_minor": 0,
  "metadata": {
    "kernelspec": {
      "name": "python3",
      "display_name": "Python 3"
    },
    "colab": {
      "name": "Find the Missing Element .ipynb",
      "provenance": [],
      "include_colab_link": true
    },
    "language_info": {
      "name": "python"
    }
  },
  "cells": [
    {
      "cell_type": "markdown",
      "metadata": {
        "id": "view-in-github",
        "colab_type": "text"
      },
      "source": [
        "<a href=\"https://colab.research.google.com/github/gkdivya/Python-for-Algorithms--Data-Structures--and-Interviews/blob/master/Array%20Sequences/Array%20Sequences%20Interview%20Questions/Array%20Sequence%20Interview%20Questions/Find%20the%20Missing%20Element%20.ipynb\" target=\"_parent\"><img src=\"https://colab.research.google.com/assets/colab-badge.svg\" alt=\"Open In Colab\"/></a>"
      ]
    },
    {
      "cell_type": "markdown",
      "metadata": {
        "id": "Lf5WrDpiJVwz"
      },
      "source": [
        "# Find the Missing Element\n",
        "\n",
        "## Problem\n",
        "\n",
        "Consider an array of non-negative integers. A second array is formed by shuffling the elements of the first array and deleting a random element. Given these two arrays, find which element is missing in the second array. \n",
        "\n",
        "Here is an example input, the first array is shuffled and the number 5 is removed to construct the second array.\n",
        "\n",
        "Input:\n",
        "    \n",
        "    finder([1,2,3,4,5,6,7],[3,7,2,1,4,6])\n",
        "\n",
        "Output:\n",
        "\n",
        "    5 is the missing number\n",
        "\n",
        "## Solution\n",
        "\n",
        "Fill out your solution below:"
      ]
    },
    {
      "cell_type": "code",
      "metadata": {
        "collapsed": true,
        "id": "3cExNnv-JVw2"
      },
      "source": [
        "def finder(arr1,arr2):\n",
        "    for i in range(len(arr1)):\n",
        "      if(arr1[i] not in arr2):\n",
        "        return arr1[i]"
      ],
      "execution_count": 1,
      "outputs": []
    },
    {
      "cell_type": "code",
      "metadata": {
        "id": "_5qtSBvtJVw3",
        "outputId": "c1167b26-ed1a-4c55-a529-62837b0927e4",
        "colab": {
          "base_uri": "https://localhost:8080/"
        }
      },
      "source": [
        "arr1 = [1,2,3,4,5,6,7]\n",
        "arr2 = [3,7,2,1,4,6]\n",
        "finder(arr1,arr2)"
      ],
      "execution_count": 2,
      "outputs": [
        {
          "output_type": "execute_result",
          "data": {
            "text/plain": [
              "5"
            ]
          },
          "metadata": {
            "tags": []
          },
          "execution_count": 2
        }
      ]
    },
    {
      "cell_type": "code",
      "metadata": {
        "id": "f_xZ6BoiJVw4"
      },
      "source": [
        "arr1 = [5,5,7,7]\n",
        "arr2 = [5,7,7]\n",
        "\n",
        "finder(arr1,arr2)"
      ],
      "execution_count": 4,
      "outputs": []
    },
    {
      "cell_type": "markdown",
      "metadata": {
        "collapsed": false,
        "id": "Oe8TZ_oHJVw4"
      },
      "source": [
        "_____"
      ]
    },
    {
      "cell_type": "markdown",
      "metadata": {
        "id": "LJF8ELoRJVw5"
      },
      "source": [
        "# Test Your Solution"
      ]
    },
    {
      "cell_type": "code",
      "metadata": {
        "id": "pFnijeqzJVw5",
        "outputId": "3195f12d-a64b-4b1f-a957-1b3d048d5970",
        "colab": {
          "base_uri": "https://localhost:8080/"
        }
      },
      "source": [
        "\"\"\"\n",
        "RUN THIS CELL TO TEST YOUR SOLUTION\n",
        "\"\"\"\n",
        "import unittest\n",
        "\n",
        "class TestFinder(unittest.TestCase):\n",
        " \n",
        "    def test(self,sol):\n",
        "        self.assertEqual(sol([5,5,7,7],[5,7,7]),None)\n",
        "        self.assertEqual(sol([1,2,3,4,5,6,7],[3,7,2,1,4,6]),5)\n",
        "        self.assertEqual(sol([9,8,7,6,5,4,3,2,1],[9,8,7,5,4,3,2,1]),6)\n",
        "        print('ALL TEST CASES PASSED')\n",
        "\n",
        "# Run test\n",
        "t = TestFinder()\n",
        "t.test(finder)"
      ],
      "execution_count": 6,
      "outputs": [
        {
          "output_type": "stream",
          "text": [
            "ALL TEST CASES PASSED\n"
          ],
          "name": "stdout"
        }
      ]
    },
    {
      "cell_type": "markdown",
      "metadata": {
        "id": "UBA9TzexJVw5"
      },
      "source": [
        "## Good Job!"
      ]
    }
  ]
}