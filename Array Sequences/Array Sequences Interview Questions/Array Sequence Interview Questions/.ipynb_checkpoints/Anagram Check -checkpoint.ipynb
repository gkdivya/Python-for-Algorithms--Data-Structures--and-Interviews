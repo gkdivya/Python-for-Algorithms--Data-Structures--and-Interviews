{
  "nbformat": 4,
  "nbformat_minor": 0,
  "metadata": {
    "kernelspec": {
      "display_name": "Python 2",
      "language": "python",
      "name": "python2"
    },
    "language_info": {
      "codemirror_mode": {
        "name": "ipython",
        "version": 2
      },
      "file_extension": ".py",
      "mimetype": "text/x-python",
      "name": "python",
      "nbconvert_exporter": "python",
      "pygments_lexer": "ipython2",
      "version": "2.7.11"
    },
    "colab": {
      "name": "Anagram Check -checkpoint.ipynb",
      "provenance": [],
      "include_colab_link": true
    }
  },
  "cells": [
    {
      "cell_type": "markdown",
      "metadata": {
        "id": "view-in-github",
        "colab_type": "text"
      },
      "source": [
        "<a href=\"https://colab.research.google.com/github/gkdivya/Python-for-Algorithms--Data-Structures--and-Interviews/blob/master/Array%20Sequences/Array%20Sequences%20Interview%20Questions/Array%20Sequence%20Interview%20Questions/.ipynb_checkpoints/Anagram%20Check%20-checkpoint.ipynb\" target=\"_parent\"><img src=\"https://colab.research.google.com/assets/colab-badge.svg\" alt=\"Open In Colab\"/></a>"
      ]
    },
    {
      "cell_type": "markdown",
      "metadata": {
        "id": "ztXeTQ1ceLaD"
      },
      "source": [
        "# Anagram Check\n",
        "\n",
        "## Problem\n",
        "\n",
        "Given two strings, check to see if they are anagrams. An anagram is when the two strings can be written using the exact same letters (so you can just rearrange the letters to get a different phrase or word). \n",
        "\n",
        "For example:\n",
        "\n",
        "    \"public relations\" is an anagram of \"crap built on lies.\"\n",
        "    \n",
        "    \"clint eastwood\" is an anagram of \"old west action\"\n",
        "    \n",
        "**Note: Ignore spaces and capitalization. So \"d go\" is an anagram of \"God\" and \"dog\" and \"o d g\".**\n",
        "\n",
        "## Solution\n",
        "\n",
        "Fill out your solution below:"
      ]
    },
    {
      "cell_type": "code",
      "metadata": {
        "id": "U7lOjmCzeLaJ"
      },
      "source": [
        "def anagram(s1,s2):\n",
        "    s1 = s1.lower().replace(' ','') \n",
        "    s2 = s2.lower().replace(' ','')\n",
        "    return ''.join(sorted(s1)) == ''.join(sorted(s2))    "
      ],
      "execution_count": 5,
      "outputs": []
    },
    {
      "cell_type": "code",
      "metadata": {
        "id": "e1YJn2UjeqU2"
      },
      "source": [
        ""
      ],
      "execution_count": null,
      "outputs": []
    },
    {
      "cell_type": "code",
      "metadata": {
        "id": "KFYNIUSdeLaK",
        "outputId": "14532ca6-425c-43d8-8f5b-e7db80e6e338",
        "colab": {
          "base_uri": "https://localhost:8080/"
        }
      },
      "source": [
        "anagram('dog','god')"
      ],
      "execution_count": 7,
      "outputs": [
        {
          "output_type": "execute_result",
          "data": {
            "text/plain": [
              "True"
            ]
          },
          "metadata": {
            "tags": []
          },
          "execution_count": 7
        }
      ]
    },
    {
      "cell_type": "code",
      "metadata": {
        "id": "zv6i2-wseLaL",
        "outputId": "e35dd038-0c4a-4070-8d21-00145521a6f6",
        "colab": {
          "base_uri": "https://localhost:8080/"
        }
      },
      "source": [
        "anagram('clint eastwood','old west action')"
      ],
      "execution_count": 8,
      "outputs": [
        {
          "output_type": "execute_result",
          "data": {
            "text/plain": [
              "True"
            ]
          },
          "metadata": {
            "tags": []
          },
          "execution_count": 8
        }
      ]
    },
    {
      "cell_type": "code",
      "metadata": {
        "id": "WdHwPaieeLaM",
        "outputId": "acfc5099-9b7a-4d78-d2ea-7dce8479a456",
        "colab": {
          "base_uri": "https://localhost:8080/"
        }
      },
      "source": [
        "anagram('aa','bb')"
      ],
      "execution_count": 9,
      "outputs": [
        {
          "output_type": "execute_result",
          "data": {
            "text/plain": [
              "False"
            ]
          },
          "metadata": {
            "tags": []
          },
          "execution_count": 9
        }
      ]
    },
    {
      "cell_type": "markdown",
      "metadata": {
        "id": "kMyin73ceLaM"
      },
      "source": [
        "# Test Your Solution\n",
        "Run the cell below to test your solution"
      ]
    },
    {
      "cell_type": "code",
      "metadata": {
        "id": "QPMH-TCKeLaN",
        "outputId": "76952174-6d49-4b56-b189-4edaa1af8035",
        "colab": {
          "base_uri": "https://localhost:8080/"
        }
      },
      "source": [
        "\"\"\"\n",
        "RUN THIS CELL TO TEST YOUR SOLUTION\n",
        "\"\"\"\n",
        "from nose.tools import assert_equal\n",
        "\n",
        "class AnagramTest(object):\n",
        "    \n",
        "    def test(self,sol):\n",
        "        assert_equal(sol('go go go','gggooo'),True)\n",
        "        assert_equal(sol('abc','cba'),True)\n",
        "        assert_equal(sol('hi man','hi     man'),True)\n",
        "        assert_equal(sol('aabbcc','aabbc'),False)\n",
        "        assert_equal(sol('123','1 2'),False)\n",
        "        print \"ALL TEST CASES PASSED\"\n",
        "\n",
        "# Run Tests\n",
        "t = AnagramTest()\n",
        "t.test(anagram)"
      ],
      "execution_count": 10,
      "outputs": [
        {
          "output_type": "stream",
          "text": [
            "ALL TEST CASES PASSED\n"
          ],
          "name": "stdout"
        }
      ]
    },
    {
      "cell_type": "code",
      "metadata": {
        "id": "S8OctV9yeLaN",
        "outputId": "77ec4135-08eb-4f18-bf1a-a7ad40249cb9",
        "colab": {
          "base_uri": "https://localhost:8080/",
          "height": 162
        }
      },
      "source": [
        "t.test(anagram2)"
      ],
      "execution_count": 11,
      "outputs": [
        {
          "output_type": "error",
          "ename": "NameError",
          "evalue": "ignored",
          "traceback": [
            "\u001b[0;31m\u001b[0m",
            "\u001b[0;31mNameError\u001b[0mTraceback (most recent call last)",
            "\u001b[0;32m<ipython-input-11-10b6a5a934e9>\u001b[0m in \u001b[0;36m<module>\u001b[0;34m()\u001b[0m\n\u001b[0;32m----> 1\u001b[0;31m \u001b[0mt\u001b[0m\u001b[0;34m.\u001b[0m\u001b[0mtest\u001b[0m\u001b[0;34m(\u001b[0m\u001b[0managram2\u001b[0m\u001b[0;34m)\u001b[0m\u001b[0;34m\u001b[0m\u001b[0m\n\u001b[0m",
            "\u001b[0;31mNameError\u001b[0m: name 'anagram2' is not defined"
          ]
        }
      ]
    },
    {
      "cell_type": "markdown",
      "metadata": {
        "id": "LafSqEfOeLaO"
      },
      "source": [
        "# Good Job!"
      ]
    }
  ]
}